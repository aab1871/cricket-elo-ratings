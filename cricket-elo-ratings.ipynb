{
 "cells": [
  {
   "cell_type": "code",
   "execution_count": null,
   "id": "a4601857-5e32-4b19-9801-f30bdb502578",
   "metadata": {},
   "outputs": [],
   "source": [
    "#This is a jupyter notebook that lets you run sections of code as view their outputs\n",
    "#This notebook imports the libraries necessary to run team and player based Elo ratings, and can be used to generate csv files of the outputs\n",
    "#Make sure you have the filepaths to the downloaded scripts and raw files correct\n",
    "\n",
    "# First step is to import the necessary libraries which you should have installed on your system\n",
    "import pandas as pd\n",
    "import numpy as np\n",
    "from matplotlib import pyplot as plt\n",
    "from tqdm import tqdm\n",
    "\n",
    "import elo_ratings as elo\n",
    "\n",
    "print(\"Modules loaded\")\n"
   ]
  },
  {
   "cell_type": "code",
   "execution_count": null,
   "id": "b3efdee8-f2ba-42a5-9a1e-25955476073d",
   "metadata": {},
   "outputs": [],
   "source": [
    "# Run Team Level Elo Ratings\n",
    "\n",
    "#Import the file - change the filepath variable to where your innings csv is saved - remember you need two backslashes for subfolders\n",
    "match_df = elo.import_statsguru_innings(filepath = \"example_data\\\\StatsGuru_IPL2024_Innings.csv\")\n",
    "print(match_df)"
   ]
  },
  {
   "cell_type": "code",
   "execution_count": null,
   "id": "c751498d-6ac9-4631-85d1-dcc4669266bb",
   "metadata": {},
   "outputs": [],
   "source": [
    "# Set up the dataframe to track the total team Elo rankings\n",
    "team_elo = elo.create_team_elo(match_df)\n",
    "print(team_elo)"
   ]
  },
  {
   "cell_type": "code",
   "execution_count": null,
   "id": "4254d69b-b9e3-4bbe-80c1-c59e1febb44f",
   "metadata": {},
   "outputs": [],
   "source": [
    "# Calculate the Elo ratings, show the final standings, and plot the match-by-match progress of each team\n",
    "# Remember to re-run the cell above to reset the ratings \n",
    "\n",
    "match_df, team_elo, team_elo_tracker = elo.calc_team_elo(match_df, team_elo)\n",
    "\n",
    "elo.plot_team_elo_tracker(team_elo_tracker)\n",
    "print(team_elo)"
   ]
  },
  {
   "cell_type": "code",
   "execution_count": null,
   "id": "c005c783-6058-48dc-901a-3e12ae21ca0c",
   "metadata": {},
   "outputs": [],
   "source": [
    "# Import ball-by-ball csv data, either from cricsheet or PCS and view the top 5 rows\n",
    "\n",
    "df = elo.import_bbb_csv_file(\"example_data\\\\all_ipl_matches.csv\")\n",
    "print(df.tail())"
   ]
  },
  {
   "cell_type": "code",
   "execution_count": null,
   "id": "02424df5-e88a-4b61-a429-293db75ccc87",
   "metadata": {},
   "outputs": [],
   "source": [
    "# Import DLS table, and create batter and bowler Elo dataframes\n",
    "# There are different dls tables available for each format of T20, ODI and Test\n",
    "\n",
    "dls_df = elo.load_dls_table(filepath = \"dls_tables\\\\dls_t20.csv\", plot= False)\n",
    "\n",
    "bowler_elo = elo.create_player_elo(df, role = \"bowler\")\n",
    "batter_elo = elo.create_player_elo(df, role = \"batter\")\n",
    "\n",
    "print(bowler_elo)\n",
    "print(\"  \")\n",
    "print(batter_elo)"
   ]
  },
  {
   "cell_type": "code",
   "execution_count": null,
   "id": "f438967d-4a37-4e7d-a1cd-f6c7af1862c3",
   "metadata": {},
   "outputs": [],
   "source": [
    "# Run the Elo calculations for the ball-by-ball data set, and create a tracking dataframe for each batter and bowler\n",
    "# This may take a some time depending on the size of the dataset and the power of your computer\n",
    "# Again, remember to re-run the cell abive to reset the ratings \n",
    "\n",
    "df, bowler_elo, bowler_elo_tracker, batter_elo, batter_elo_tracker = elo.calc_player_elo(df, dls_df, bowler_elo, batter_elo, par_score = 180)\n",
    "df.tail()"
   ]
  },
  {
   "cell_type": "code",
   "execution_count": null,
   "id": "bd1e1024-7fb6-425a-8a13-e0570a2c21a5",
   "metadata": {},
   "outputs": [],
   "source": [
    "# Save the outputs to csv files for further manipulation or plotting in dashboarding software etc\n",
    "# Note, the exact values of runs added and Elo ratings will be dependent on the par_score you enter, so make note of it!\n",
    "df.to_csv(\"example_outputs//ipl_all_matches_elo_180par.csv\")\n",
    "bowler_elo.to_csv(\"example_outputs//ipl_bowler_final_elo_180par.csv\")\n",
    "bowler_elo_tracker.to_csv(\"example_outputs//ipl_bowler_elo_tracker_180par.csv\")\n",
    "batter_elo.to_csv(\"example_outputs//ipl_batter_final_elo_180par.csv\")\n",
    "bowler_elo_tracker.to_csv(\"example_outputs//ipl_batter_elo_tracker_180par.csv\")\n",
    "print(\"Outputs saved\")"
   ]
  },
  {
   "cell_type": "code",
   "execution_count": null,
   "id": "b5596a44-c5fe-4bdd-8b0c-c26b5b86343d",
   "metadata": {
    "scrolled": true
   },
   "outputs": [],
   "source": [
    "#Plot the top 5 bowlers who have bowled over 250 deliveries,\n",
    "top_batters = elo.plot_top_players(bowler_elo, bowler_elo_tracker, role = \"bowler\", n = 5, thresh = 200)"
   ]
  },
  {
   "cell_type": "code",
   "execution_count": null,
   "id": "eabb799d-257c-4337-843d-69aa80ad1762",
   "metadata": {},
   "outputs": [],
   "source": [
    "#Plot the top 5 batter who have faced over 250 deliveries,\n",
    "top_batters = elo.plot_top_players(batter_elo, batter_elo_tracker, role = \"batter\", n = 5, thresh = 200)"
   ]
  }
 ],
 "metadata": {
  "kernelspec": {
   "display_name": "Python 3 (ipykernel)",
   "language": "python",
   "name": "python3"
  },
  "language_info": {
   "codemirror_mode": {
    "name": "ipython",
    "version": 3
   },
   "file_extension": ".py",
   "mimetype": "text/x-python",
   "name": "python",
   "nbconvert_exporter": "python",
   "pygments_lexer": "ipython3",
   "version": "3.13.2"
  }
 },
 "nbformat": 4,
 "nbformat_minor": 5
}
